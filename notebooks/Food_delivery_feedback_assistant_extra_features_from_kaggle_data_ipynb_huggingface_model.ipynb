{
  "nbformat": 4,
  "nbformat_minor": 0,
  "metadata": {
    "colab": {
      "provenance": []
    },
    "kernelspec": {
      "name": "python3",
      "display_name": "Python 3"
    },
    "language_info": {
      "name": "python"
    }
  },
  "cells": [
    {
      "cell_type": "code",
      "source": [
        "# 📘 Step 1: Install and Import Required Libraries\n",
        "# Install Huggingface Transformers and datasets if not already installed\n",
        "!pip install transformers"
      ],
      "metadata": {
        "colab": {
          "base_uri": "https://localhost:8080/"
        },
        "id": "pMYgIx6mzVOR",
        "outputId": "2e16cbf1-ab2b-4e97-c790-d389789d1db7"
      },
      "execution_count": null,
      "outputs": [
        {
          "output_type": "stream",
          "name": "stdout",
          "text": [
            "Requirement already satisfied: transformers in /usr/local/lib/python3.10/dist-packages (4.47.0)\n",
            "Requirement already satisfied: filelock in /usr/local/lib/python3.10/dist-packages (from transformers) (3.16.1)\n",
            "Requirement already satisfied: huggingface-hub<1.0,>=0.24.0 in /usr/local/lib/python3.10/dist-packages (from transformers) (0.27.0)\n",
            "Requirement already satisfied: numpy>=1.17 in /usr/local/lib/python3.10/dist-packages (from transformers) (1.26.4)\n",
            "Requirement already satisfied: packaging>=20.0 in /usr/local/lib/python3.10/dist-packages (from transformers) (24.2)\n",
            "Requirement already satisfied: pyyaml>=5.1 in /usr/local/lib/python3.10/dist-packages (from transformers) (6.0.2)\n",
            "Requirement already satisfied: regex!=2019.12.17 in /usr/local/lib/python3.10/dist-packages (from transformers) (2024.11.6)\n",
            "Requirement already satisfied: requests in /usr/local/lib/python3.10/dist-packages (from transformers) (2.32.3)\n",
            "Requirement already satisfied: tokenizers<0.22,>=0.21 in /usr/local/lib/python3.10/dist-packages (from transformers) (0.21.0)\n",
            "Requirement already satisfied: safetensors>=0.4.1 in /usr/local/lib/python3.10/dist-packages (from transformers) (0.4.5)\n",
            "Requirement already satisfied: tqdm>=4.27 in /usr/local/lib/python3.10/dist-packages (from transformers) (4.67.1)\n",
            "Requirement already satisfied: fsspec>=2023.5.0 in /usr/local/lib/python3.10/dist-packages (from huggingface-hub<1.0,>=0.24.0->transformers) (2024.10.0)\n",
            "Requirement already satisfied: typing-extensions>=3.7.4.3 in /usr/local/lib/python3.10/dist-packages (from huggingface-hub<1.0,>=0.24.0->transformers) (4.12.2)\n",
            "Requirement already satisfied: charset-normalizer<4,>=2 in /usr/local/lib/python3.10/dist-packages (from requests->transformers) (3.4.0)\n",
            "Requirement already satisfied: idna<4,>=2.5 in /usr/local/lib/python3.10/dist-packages (from requests->transformers) (3.10)\n",
            "Requirement already satisfied: urllib3<3,>=1.21.1 in /usr/local/lib/python3.10/dist-packages (from requests->transformers) (2.2.3)\n",
            "Requirement already satisfied: certifi>=2017.4.17 in /usr/local/lib/python3.10/dist-packages (from requests->transformers) (2024.12.14)\n"
          ]
        }
      ]
    },
    {
      "cell_type": "code",
      "source": [
        "# 📘 Step 2: Import Required Libraries\n",
        "import random  # For generating discount codes\n",
        "import pandas as pd  # For tracking order status\n",
        "from transformers import pipeline  # For AI-based query response"
      ],
      "metadata": {
        "id": "F_YuuLZFzX0w"
      },
      "execution_count": null,
      "outputs": []
    },
    {
      "cell_type": "code",
      "source": [
        "# 📘 Step 3: Load customer order data from CSV\n",
        "# Directly load the file from /content/data/train.csv\n",
        "csv_path = '/content/data/train.csv'\n",
        "orders_df = pd.read_csv(csv_path, dtype={'ID': str})\n",
        "orders_df['ID'] = orders_df['ID'].str.strip().str.lower()  # Remove whitespace and convert to lowercase\n",
        "orders_df['ID'] = orders_df['ID'].str.replace('0x', '', regex=False)  # Clean up the '0x' prefix if present\n",
        "# Debug: Print available order IDs for validation\n",
        "print(\"\\n📋 Available Order IDs:\", orders_df['ID'].unique())"
      ],
      "metadata": {
        "colab": {
          "base_uri": "https://localhost:8080/"
        },
        "id": "A_nWjy9k2KlS",
        "outputId": "57f347c0-00a5-4456-f95c-045720809abc"
      },
      "execution_count": null,
      "outputs": [
        {
          "output_type": "stream",
          "name": "stdout",
          "text": [
            "\n",
            "📋 Available Order IDs: ['4607' 'b379' '5d6d' ... '4f8d' '5eee' '5fb2']\n"
          ]
        }
      ]
    },
    {
      "cell_type": "code",
      "source": [
        "# 📘 Step 4: Initialize HuggingFace model for AI responses\n",
        "print(\"\\n⏳ Loading EleutherAI/gpt-neo-1.3B model. This may take a few minutes...\")\n",
        "assistant_model = pipeline(\"text-generation\", model=\"EleutherAI/gpt-neo-1.3B\", device=-1)  # -1 uses CPU\n",
        "\n"
      ],
      "metadata": {
        "colab": {
          "base_uri": "https://localhost:8080/"
        },
        "id": "TBl25og82PoY",
        "outputId": "360d849b-6c09-456d-8e88-405ef78c6dc5"
      },
      "execution_count": null,
      "outputs": [
        {
          "output_type": "stream",
          "name": "stdout",
          "text": [
            "\n",
            "⏳ Loading EleutherAI/gpt-neo-1.3B model. This may take a few minutes...\n"
          ]
        },
        {
          "output_type": "stream",
          "name": "stderr",
          "text": [
            "Device set to use cpu\n"
          ]
        }
      ]
    },
    {
      "cell_type": "code",
      "source": [
        "# 📘 Step 5: Define Utility Functions\n",
        "def check_order_status(order_id):\n",
        "    \"\"\"Check the order status from the CSV file.\"\"\"\n",
        "    order_id = order_id.strip().lower()  # Clean user input\n",
        "    order = orders_df.loc[orders_df['ID'] == order_id]\n",
        "    if not order.empty:\n",
        "        return order.iloc[0]['Time_taken(min)']\n",
        "    else:\n",
        "        return 'Order not found'\n",
        "\n",
        "def predict_delivery_time(order_id):\n",
        "    \"\"\"Predict delivery time for a specific order from the CSV data.\"\"\"\n",
        "    order_id = order_id.strip().lower()  # Clean user input\n",
        "    order = orders_df.loc[orders_df['ID'] == order_id]\n",
        "    if not order.empty:\n",
        "        time_taken = int(order.iloc[0]['Time_taken(min)'].replace('(min) ', ''))\n",
        "        return time_taken\n",
        "    else:\n",
        "        return 'Order not found'\n",
        "\n",
        "def generate_discount_code():\n",
        "    \"\"\"Generate a random discount code for the customer.\"\"\"\n",
        "    return f'DISC-{random.randint(1000, 9999)}'\n",
        "\n",
        "def get_weather_and_traffic_info(order_id):\n",
        "    \"\"\"Get weather and traffic information for a specific order.\"\"\"\n",
        "    order_id = order_id.strip().lower()  # Clean user input\n",
        "    order = orders_df.loc[orders_df['ID'] == order_id]\n",
        "    if not order.empty:\n",
        "        weather_condition = order.iloc[0]['Weatherconditions'].replace('conditions ', '')\n",
        "        traffic_condition = order.iloc[0]['Road_traffic_density']\n",
        "        return {\"weather\": weather_condition, \"traffic\": traffic_condition}\n",
        "    return {\"weather\": \"unknown\", \"traffic\": \"unknown\"}\n",
        "\n",
        "def generate_delivery_status_message(order_id):\n",
        "    \"\"\"Generate a message about the delivery status of an order.\"\"\"\n",
        "    order_id = order_id.strip().lower()  # Clean user input\n",
        "    order = orders_df.loc[orders_df['ID'] == order_id]\n",
        "\n",
        "    if order.empty:\n",
        "        return \"We couldn't find your order. Please check the Order ID and try again.\"\n",
        "\n",
        "    status = \"Out for delivery\"\n",
        "    weather_and_traffic = get_weather_and_traffic_info(order_id)\n",
        "    weather = weather_and_traffic['weather']\n",
        "    traffic = weather_and_traffic['traffic']\n",
        "    delivery_time = predict_delivery_time(order_id)\n",
        "    delay = 10  # Example fixed delay for demonstration\n",
        "    total_delivery_time = delivery_time + delay\n",
        "\n",
        "    return (f\"Your order will be delivered in {total_delivery_time} minutes. It is {delay} minutes later than the usual time due to \"\n",
        "            f\"{weather} weather and {traffic} traffic in your area. We apologize for the inconvenience.\")\n",
        "\n",
        "def get_llm_response(user_input, session_context):\n",
        "    \"\"\"Generate an AI-powered response using EleutherAI's GPT-Neo model, considering context and CSV data.\"\"\"\n",
        "    try:\n",
        "        # Check if the user is asking for specific data like order status, weather, or traffic\n",
        "        order_id = None\n",
        "        csv_data = \"\"\n",
        "\n",
        "        # If order tracking is mentioned, add order details to session context\n",
        "        if 'track my order' in user_input.lower():\n",
        "            order_id = input(\"🔍 Please enter your Order ID: \").strip().lower()\n",
        "            if order_id in orders_df['ID'].values:\n",
        "                status_message = generate_delivery_status_message(order_id)\n",
        "                csv_data = f\"Order ID {order_id}: {status_message}\"\n",
        "            else:\n",
        "                csv_data = f\"Order ID {order_id} not found in the data.\"\n",
        "\n",
        "        # If delivery time is requested, add delivery time data to session context\n",
        "        elif 'delivery time' in user_input.lower():\n",
        "            order_id = input(\"🔍 Please enter your Order ID: \").strip().lower()\n",
        "            if order_id in orders_df['ID'].values:\n",
        "                delivery_time = predict_delivery_time(order_id)\n",
        "                csv_data = f\"Order ID {order_id}: Estimated delivery time is {delivery_time} minutes.\"\n",
        "            else:\n",
        "                csv_data = f\"Order ID {order_id} not found in the data.\"\n",
        "\n",
        "        # If weather or traffic info is requested, add relevant data to session context\n",
        "        elif 'weather' in user_input.lower() or 'traffic' in user_input.lower():\n",
        "            order_id = input(\"🔍 Please enter your Order ID: \").strip().lower()\n",
        "            if order_id in orders_df['ID'].values:\n",
        "                weather_traffic_info = get_weather_and_traffic_info(order_id)\n",
        "                csv_data = f\"Order ID {order_id}: Weather is {weather_traffic_info['weather']}, Traffic is {weather_traffic_info['traffic']}.\"\n",
        "            else:\n",
        "                csv_data = f\"Order ID {order_id} not found in the data.\"\n",
        "\n",
        "        # If 'order' is mentioned, check if the user wants to track or place a new order\n",
        "        elif 'order' in user_input.lower():\n",
        "            session_context += f\" User mentioned 'order'. Let's ask if they want to track or place a new order.\"\n",
        "            csv_data = \"Please specify if you want to track your order or place a new one.\"\n",
        "\n",
        "        # Add CSV data to the session context\n",
        "        full_input = session_context + \" \" + user_input + \" \" + csv_data\n",
        "\n",
        "        # Generate the response using LLM\n",
        "        response = assistant_model(full_input,\n",
        "                                   max_new_tokens=100,  # Set the number of tokens to generate\n",
        "                                   num_return_sequences=1,\n",
        "                                   truncation=True,  # Ensure input is truncated to max_length\n",
        "                                   pad_token_id=50256)  # Explicitly set pad_token_id for open-end generation\n",
        "        generated_text = response[0]['generated_text']\n",
        "\n",
        "        # Update session context with the latest interaction (including the AI's response)\n",
        "        session_context += \" \" + user_input + \" \" + csv_data + \" \" + generated_text\n",
        "        return generated_text, session_context\n",
        "\n",
        "    except Exception as e:\n",
        "        print(f\"Error fetching LLM response: {e}\")\n",
        "        return \"Sorry, something went wrong. Please try again later.\", session_context\n"
      ],
      "metadata": {
        "id": "bXN1SCc5zZ47"
      },
      "execution_count": null,
      "outputs": []
    },
    {
      "cell_type": "code",
      "source": [
        "# 📘 Step 6: Customer Interaction Logic with Context Caching\n",
        "def simulate_customer_interaction():\n",
        "    print(\"\\n👋 Welcome to Food Delivery Assistant! How can I help you today? (Type your request below)\")\n",
        "\n",
        "    session_context = \"\"  # Initialize empty session context\n",
        "\n",
        "    while True:\n",
        "        user_input = input(\"🗣️ You: \")\n",
        "\n",
        "        # Exit condition\n",
        "        if 'exit' in user_input.lower() or 'quit' in user_input.lower():\n",
        "            print(\"Goodbye! Have a great day!\")\n",
        "            break\n",
        "\n",
        "        # Check if order tracking is mentioned in user input\n",
        "        if 'track my order' in user_input.lower():\n",
        "            order_id = input(\"🔍 Please enter your Order ID: \").strip().lower()\n",
        "            if order_id in orders_df['ID'].values:\n",
        "                status_message = generate_delivery_status_message(order_id)\n",
        "                print(f\"📦 {status_message}\")\n",
        "                session_context += f\" User asked to track order {order_id}. Assistant provided: {status_message}\"\n",
        "            else:\n",
        "                print(\"❌ Order ID not found. Please try again.\")\n",
        "                session_context += f\" User asked to track order {order_id}, but it was not found.\"\n",
        "\n",
        "        # Check if placing a new order is mentioned\n",
        "        elif 'place a new order' in user_input.lower() or 'new order' in user_input.lower():\n",
        "            order_id = input(\"🔍 Please enter a new Order ID: \").strip().lower()\n",
        "            if order_id in orders_df['ID'].values:\n",
        "                distance = float(input(\"🚚 Enter the delivery distance in km: \"))\n",
        "                estimated_time = round(distance * 10)  # Example formula: 10 minutes per km\n",
        "                print(f\"⏳ The estimated delivery time for your order is {estimated_time} minutes.\")\n",
        "\n",
        "                # Optionally, provide discount code for new order\n",
        "                discount_code = generate_discount_code()\n",
        "                print(f\"🎉 Use the discount code {discount_code} for your next order!\")\n",
        "                session_context += f\" User placed a new order {order_id}. Estimated time: {estimated_time} minutes. Discount code provided: {discount_code}\"\n",
        "            else:\n",
        "                print(\"❌ Order ID not found. Please check and try again.\")\n",
        "                session_context += f\" User tried placing a new order {order_id}, but it was not found.\"\n",
        "\n",
        "        # Weather and traffic related inquiries\n",
        "        elif 'weather' in user_input.lower() or 'traffic' in user_input.lower():\n",
        "            order_id = input(\"🔍 Please enter your Order ID to check the status: \").strip().lower()\n",
        "            if order_id in orders_df['ID'].values:\n",
        "                weather_traffic_info = get_weather_and_traffic_info(order_id)\n",
        "                print(f\"🌤️ Current weather: {weather_traffic_info['weather']}\")\n",
        "                print(f\"🚗 Traffic condition: {weather_traffic_info['traffic']}\")\n",
        "                session_context += f\" User asked about weather and traffic for order {order_id}. Weather: {weather_traffic_info['weather']}, Traffic: {weather_traffic_info['traffic']}\"\n",
        "            else:\n",
        "                print(\"❌ Order ID not found. Please check and try again.\")\n",
        "                session_context += f\" User asked about weather and traffic for order {order_id}, but it was not found.\"\n",
        "\n",
        "        # If user asks a general question, get an LLM response with data from CSV\n",
        "        else:\n",
        "            ai_response, session_context = get_llm_response(user_input, session_context)\n",
        "            print(f\"🤖 AI Assistant: {ai_response}\")\n",
        "\n",
        "simulate_customer_interaction()"
      ],
      "metadata": {
        "colab": {
          "base_uri": "https://localhost:8080/"
        },
        "id": "zC5ssb2RzcM3",
        "outputId": "5c735fd3-0849-4992-8fd1-0982e2418ab1"
      },
      "execution_count": null,
      "outputs": [
        {
          "name": "stdout",
          "output_type": "stream",
          "text": [
            "\n",
            "👋 Welcome to Food Delivery Assistant! How can I help you today? (Type your request below)\n",
            "🗣️ You: order\n",
            "🤖 AI Assistant:  User mentioned 'order'. Let's ask if they want to track or place a new order. order Please specify if you want to track your order or place a new one.\n",
            "\n",
            "A:\n",
            "\n",
            "The order line of a line, is not the same thing as an order placed, or an order that's been approved by the customer.  I believe that order = order.  Orders don't exist until a customer places an order.  The order (order line) is not a transaction that can be placed into the system, and only has any value until it's approved.\n",
            "\n",
            "\n",
            "🗣️ You: track order\n",
            "🤖 AI Assistant:  User mentioned 'order'. Let's ask if they want to track or place a new order. order Please specify if you want to track your order or place a new one.  User mentioned 'order'. Let's ask if they want to track or place a new order. order Please specify if you want to track your order or place a new one.\n",
            "\n",
            "A:\n",
            "\n",
            "The order line of a line, is not the same thing as an order placed, or an order that's been approved by the customer.  I believe that order = order.  Orders don't exist until a customer places an order.  The order (order line) is not a transaction that can be placed into the system, and only has any value until it's approved.\n",
            "\n",
            " User mentioned 'order'. Let's ask if they want to track or place a new order. track order Please specify if you want to track your order or place a new one.  [Order]  User said 'order', track order Please specify if you want to track your order or place a new one.\n",
            "\n",
            "\"Track order\" means to record the order, either on the order line of a customer, or something that represents the order.  A customer can track an order, but I think it's more likely to be to an order placed by the customer, and an order (order line), that exists for later transactions.\n",
            "\n",
            "\n",
            "🗣️ You: track my order\n",
            "🔍 Please enter your Order ID: 4607\n",
            "📦 Your order will be delivered in 34 minutes. It is 10 minutes later than the usual time due to Sunny weather and High  traffic in your area. We apologize for the inconvenience.\n",
            "🗣️ You: place a new order\n",
            "🔍 Please enter a new Order ID: 4412\n",
            "🚚 Enter the delivery distance in km: 9\n",
            "⏳ The estimated delivery time for your order is 90 minutes.\n",
            "🎉 Use the discount code DISC-9204 for your next order!\n",
            "🗣️ You: track order\n",
            "🤖 AI Assistant:  User mentioned 'order'. Let's ask if they want to track or place a new order. order Please specify if you want to track your order or place a new one.  User mentioned 'order'. Let's ask if they want to track or place a new order. order Please specify if you want to track your order or place a new one.\n",
            "\n",
            "A:\n",
            "\n",
            "The order line of a line, is not the same thing as an order placed, or an order that's been approved by the customer.  I believe that order = order.  Orders don't exist until a customer places an order.  The order (order line) is not a transaction that can be placed into the system, and only has any value until it's approved.\n",
            "\n",
            " User mentioned 'order'. Let's ask if they want to track or place a new order. track order Please specify if you want to track your order or place a new one.  User mentioned 'order'. Let's ask if they want to track or place a new order. order Please specify if you want to track your order or place a new one.  User mentioned 'order'. Let's ask if they want to track or place a new order. order Please specify if you want to track your order or place a new one.\n",
            "\n",
            "A:\n",
            "\n",
            "The order line of a line, is not the same thing as an order placed, or an order that's been approved by the customer.  I believe that order = order.  Orders don't exist until a customer places an order.  The order (order line) is not a transaction that can be placed into the system, and only has any value until it's approved.\n",
            "\n",
            " User mentioned 'order'. Let's ask if they want to track or place a new order. track order Please specify if you want to track your order or place a new one.  [Order]  User said 'order', track order Please specify if you want to track your order or place a new one.\n",
            "\n",
            "\"Track order\" means to record the order, either on the order line of a customer, or something that represents the order.  A customer can track an order, but I think it's more likely to be to an order placed by the customer, and an order (order line), that exists for later transactions.\n",
            "\n",
            " User asked to track order 4607. Assistant provided: Your order will be delivered in 34 minutes. It is 10 minutes later than the usual time due to Sunny weather and High  traffic in your area. We apologize for the inconvenience. User placed a new order 4412. Estimated time: 90 minutes. Discount code provided: DISC-9204 User mentioned 'order'. Let's ask if they want to track or place a new order. track order Please specify if you want to track your order or place a new one. User said 'order'. Let's ask if they want to track or place a new order. order Please specify if you want to track your order or place a new one.\n",
            "\n",
            "\n",
            "🗣️ You: place a order\n",
            "🤖 AI Assistant:  User mentioned 'order'. Let's ask if they want to track or place a new order. order Please specify if you want to track your order or place a new one.  User mentioned 'order'. Let's ask if they want to track or place a new order. order Please specify if you want to track your order or place a new one.\n",
            "\n",
            "A:\n",
            "\n",
            "The order line of a line, is not the same thing as an order placed, or an order that's been approved by the customer.  I believe that order = order.  Orders don't exist until a customer places an order.  The order (order line) is not a transaction that can be placed into the system, and only has any value until it's approved.\n",
            "\n",
            " User mentioned 'order'. Let's ask if they want to track or place a new order. track order Please specify if you want to track your order or place a new one.  User mentioned 'order'. Let's ask if they want to track or place a new order. order Please specify if you want to track your order or place a new one.  User mentioned 'order'. Let's ask if they want to track or place a new order. order Please specify if you want to track your order or place a new one.\n",
            "\n",
            "A:\n",
            "\n",
            "The order line of a line, is not the same thing as an order placed, or an order that's been approved by the customer.  I believe that order = order.  Orders don't exist until a customer places an order.  The order (order line) is not a transaction that can be placed into the system, and only has any value until it's approved.\n",
            "\n",
            " User mentioned 'order'. Let's ask if they want to track or place a new order. track order Please specify if you want to track your order or place a new one.  [Order]  User said 'order', track order Please specify if you want to track your order or place a new one.\n",
            "\n",
            "\"Track order\" means to record the order, either on the order line of a customer, or something that represents the order.  A customer can track an order, but I think it's more likely to be to an order placed by the customer, and an order (order line), that exists for later transactions.\n",
            "\n",
            " User asked to track order 4607. Assistant provided: Your order will be delivered in 34 minutes. It is 10 minutes later than the usual time due to Sunny weather and High  traffic in your area. We apologize for the inconvenience. User placed a new order 4412. Estimated time: 90 minutes. Discount code provided: DISC-9204 User mentioned 'order'. Let's ask if they want to track or place a new order. track order Please specify if you want to track your order or place a new one.  User mentioned 'order'. Let's ask if they want to track or place a new order. order Please specify if you want to track your order or place a new one.  User mentioned 'order'. Let's ask if they want to track or place a new order. order Please specify if you want to track your order or place a new one.\n",
            "\n",
            "A:\n",
            "\n",
            "The order line of a line, is not the same thing as an order placed, or an order that's been approved by the customer.  I believe that order = order.  Orders don't exist until a customer places an order.  The order (order line) is not a transaction that can be placed into the system, and only has any value until it's approved.\n",
            "\n",
            " User mentioned 'order'. Let's ask if they want to track or place a new order. track order Please specify if you want to track your order or place a new one.  User mentioned 'order'. Let's ask if they want to track or place a new order. order Please specify if you want to track your order or place a new one.  User mentioned 'order'. Let's ask if they want to track or place a new order. order Please specify if you want to track your order or place a new one.\n",
            "\n",
            "A:\n",
            "\n",
            "The order line of a line, is not the same thing as an order placed, or an order that's been approved by the customer.  I believe that order = order.  Orders don't exist until a customer places an order.  The order (order line) is not a transaction that can be placed into the system, and only has any value until it's approved.\n",
            "\n",
            " User mentioned 'order'. Let's ask if they want to track or place a new order. track order Please specify if you want to track your order or place a new one.  [Order]  User said 'order', track order Please specify if you want to track your order or place a new one.\n",
            "\n",
            "\"Track order\" means to record the order, either on the order line of a customer, or something that represents the order.  A customer can track an order, but I think it's more likely to be to an order placed by the customer, and an order (order line), that exists for later transactions.\n",
            "\n",
            " User asked to track order 4607. Assistant provided: Your order will be delivered in 34 minutes. It is 10 minutes later than the usual time due to Sunny weather and High  traffic in your area. We apologize for the inconvenience. User placed a new order 4412. Estimated time: 90 minutes. Discount code provided: DISC-9204 User mentioned 'order'. Let's ask if they want to track or place a new order. track order Please specify if you want to track your order or place a new one. User said 'order'. Let's ask if they want to track or place a new order. order Please specify if you want to track your order or place a new one.\n",
            "\n",
            " User mentioned 'order'. Let's ask if they want to track or place a new order. place a order Please specify if you want to track your order or place a new one. User mentioned 'order'. Let's ask if they want to track or place a new order. track order Please specify if you want to track your order or place a new one. User mentioned 'order'. Let's ask if they want to track or place a new order. order Please specify if you want to track your order or place a new one.\n",
            "\n",
            "\"Place a order\" means to accept an order by making a purchase or purchase order, from a customer, or other entities such as\n",
            "🗣️ You: place a new order\n",
            "🔍 Please enter a new Order ID: 1111\n",
            "🚚 Enter the delivery distance in km: 10\n",
            "⏳ The estimated delivery time for your order is 100 minutes.\n",
            "🎉 Use the discount code DISC-2818 for your next order!\n",
            "🗣️ You: report an issue\n"
          ]
        },
        {
          "output_type": "stream",
          "name": "stderr",
          "text": [
            "This is a friendly reminder - the current text generation call will exceed the model's predefined maximum length (2048). Depending on the model, you may observe exceptions, performance degradation, or nothing at all.\n"
          ]
        },
        {
          "output_type": "stream",
          "name": "stdout",
          "text": [
            "Error fetching LLM response: index out of range in self\n",
            "🤖 AI Assistant: Sorry, something went wrong. Please try again later.\n",
            "🗣️ You: Exit\n",
            "Goodbye! Have a great day!\n"
          ]
        }
      ]
    }
  ]
}
